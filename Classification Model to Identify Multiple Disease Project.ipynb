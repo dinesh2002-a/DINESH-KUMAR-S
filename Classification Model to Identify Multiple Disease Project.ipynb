{
 "cells": [
  {
   "cell_type": "markdown",
   "metadata": {
    "id": "I18Jq4byuxJz"
   },
   "source": [
    "# **⭐ Classification Model to Identify Multiple Disease**"
   ]
  },
  {
   "cell_type": "code",
   "execution_count": 3,
   "metadata": {
    "id": "KMnSezUyqBGC"
   },
   "outputs": [],
   "source": [
    "# import library\n",
    "import pandas as pd"
   ]
  },
  {
   "cell_type": "code",
   "execution_count": 4,
   "metadata": {
    "id": "sSNrMT5cu0QO"
   },
   "outputs": [],
   "source": [
    "# import data\n",
    "disease = pd.read_csv('https://github.com/ybifoundation/Dataset/raw/main/MultipleDiseasePrediction.csv')"
   ]
  },
  {
   "cell_type": "code",
   "execution_count": 5,
   "metadata": {
    "colab": {
     "base_uri": "https://localhost:8080/",
     "height": 386
    },
    "executionInfo": {
     "elapsed": 647,
     "status": "ok",
     "timestamp": 1661324395377,
     "user": {
      "displayName": "YBI Foundation",
      "userId": "14999490793651581791"
     },
     "user_tz": -330
    },
    "id": "47yQb5c2vnSy",
    "outputId": "3ab9f815-9dce-4e13-d3a4-a4fc2de5404d"
   },
   "outputs": [
    {
     "data": {
      "text/html": [
       "<div>\n",
       "<style scoped>\n",
       "    .dataframe tbody tr th:only-of-type {\n",
       "        vertical-align: middle;\n",
       "    }\n",
       "\n",
       "    .dataframe tbody tr th {\n",
       "        vertical-align: top;\n",
       "    }\n",
       "\n",
       "    .dataframe thead th {\n",
       "        text-align: right;\n",
       "    }\n",
       "</style>\n",
       "<table border=\"1\" class=\"dataframe\">\n",
       "  <thead>\n",
       "    <tr style=\"text-align: right;\">\n",
       "      <th></th>\n",
       "      <th>itching</th>\n",
       "      <th>skin_rash</th>\n",
       "      <th>nodal_skin_eruptions</th>\n",
       "      <th>continuous_sneezing</th>\n",
       "      <th>shivering</th>\n",
       "      <th>chills</th>\n",
       "      <th>joint_pain</th>\n",
       "      <th>stomach_pain</th>\n",
       "      <th>acidity</th>\n",
       "      <th>ulcers_on_tongue</th>\n",
       "      <th>...</th>\n",
       "      <th>blackheads</th>\n",
       "      <th>scurring</th>\n",
       "      <th>skin_peeling</th>\n",
       "      <th>silver_like_dusting</th>\n",
       "      <th>small_dents_in_nails</th>\n",
       "      <th>inflammatory_nails</th>\n",
       "      <th>blister</th>\n",
       "      <th>red_sore_around_nose</th>\n",
       "      <th>yellow_crust_ooze</th>\n",
       "      <th>prognosis</th>\n",
       "    </tr>\n",
       "  </thead>\n",
       "  <tbody>\n",
       "    <tr>\n",
       "      <th>0</th>\n",
       "      <td>1</td>\n",
       "      <td>1</td>\n",
       "      <td>1</td>\n",
       "      <td>0</td>\n",
       "      <td>0</td>\n",
       "      <td>0</td>\n",
       "      <td>0</td>\n",
       "      <td>0</td>\n",
       "      <td>0</td>\n",
       "      <td>0</td>\n",
       "      <td>...</td>\n",
       "      <td>0</td>\n",
       "      <td>0</td>\n",
       "      <td>0</td>\n",
       "      <td>0</td>\n",
       "      <td>0</td>\n",
       "      <td>0</td>\n",
       "      <td>0</td>\n",
       "      <td>0</td>\n",
       "      <td>0</td>\n",
       "      <td>Fungal infection</td>\n",
       "    </tr>\n",
       "    <tr>\n",
       "      <th>1</th>\n",
       "      <td>0</td>\n",
       "      <td>1</td>\n",
       "      <td>1</td>\n",
       "      <td>0</td>\n",
       "      <td>0</td>\n",
       "      <td>0</td>\n",
       "      <td>0</td>\n",
       "      <td>0</td>\n",
       "      <td>0</td>\n",
       "      <td>0</td>\n",
       "      <td>...</td>\n",
       "      <td>0</td>\n",
       "      <td>0</td>\n",
       "      <td>0</td>\n",
       "      <td>0</td>\n",
       "      <td>0</td>\n",
       "      <td>0</td>\n",
       "      <td>0</td>\n",
       "      <td>0</td>\n",
       "      <td>0</td>\n",
       "      <td>Fungal infection</td>\n",
       "    </tr>\n",
       "    <tr>\n",
       "      <th>2</th>\n",
       "      <td>1</td>\n",
       "      <td>0</td>\n",
       "      <td>1</td>\n",
       "      <td>0</td>\n",
       "      <td>0</td>\n",
       "      <td>0</td>\n",
       "      <td>0</td>\n",
       "      <td>0</td>\n",
       "      <td>0</td>\n",
       "      <td>0</td>\n",
       "      <td>...</td>\n",
       "      <td>0</td>\n",
       "      <td>0</td>\n",
       "      <td>0</td>\n",
       "      <td>0</td>\n",
       "      <td>0</td>\n",
       "      <td>0</td>\n",
       "      <td>0</td>\n",
       "      <td>0</td>\n",
       "      <td>0</td>\n",
       "      <td>Fungal infection</td>\n",
       "    </tr>\n",
       "    <tr>\n",
       "      <th>3</th>\n",
       "      <td>1</td>\n",
       "      <td>1</td>\n",
       "      <td>0</td>\n",
       "      <td>0</td>\n",
       "      <td>0</td>\n",
       "      <td>0</td>\n",
       "      <td>0</td>\n",
       "      <td>0</td>\n",
       "      <td>0</td>\n",
       "      <td>0</td>\n",
       "      <td>...</td>\n",
       "      <td>0</td>\n",
       "      <td>0</td>\n",
       "      <td>0</td>\n",
       "      <td>0</td>\n",
       "      <td>0</td>\n",
       "      <td>0</td>\n",
       "      <td>0</td>\n",
       "      <td>0</td>\n",
       "      <td>0</td>\n",
       "      <td>Fungal infection</td>\n",
       "    </tr>\n",
       "    <tr>\n",
       "      <th>4</th>\n",
       "      <td>1</td>\n",
       "      <td>1</td>\n",
       "      <td>1</td>\n",
       "      <td>0</td>\n",
       "      <td>0</td>\n",
       "      <td>0</td>\n",
       "      <td>0</td>\n",
       "      <td>0</td>\n",
       "      <td>0</td>\n",
       "      <td>0</td>\n",
       "      <td>...</td>\n",
       "      <td>0</td>\n",
       "      <td>0</td>\n",
       "      <td>0</td>\n",
       "      <td>0</td>\n",
       "      <td>0</td>\n",
       "      <td>0</td>\n",
       "      <td>0</td>\n",
       "      <td>0</td>\n",
       "      <td>0</td>\n",
       "      <td>Fungal infection</td>\n",
       "    </tr>\n",
       "  </tbody>\n",
       "</table>\n",
       "<p>5 rows × 133 columns</p>\n",
       "</div>"
      ],
      "text/plain": [
       "   itching  skin_rash  nodal_skin_eruptions  continuous_sneezing  shivering  \\\n",
       "0        1          1                     1                    0          0   \n",
       "1        0          1                     1                    0          0   \n",
       "2        1          0                     1                    0          0   \n",
       "3        1          1                     0                    0          0   \n",
       "4        1          1                     1                    0          0   \n",
       "\n",
       "   chills  joint_pain  stomach_pain  acidity  ulcers_on_tongue  ...  \\\n",
       "0       0           0             0        0                 0  ...   \n",
       "1       0           0             0        0                 0  ...   \n",
       "2       0           0             0        0                 0  ...   \n",
       "3       0           0             0        0                 0  ...   \n",
       "4       0           0             0        0                 0  ...   \n",
       "\n",
       "   blackheads  scurring  skin_peeling  silver_like_dusting  \\\n",
       "0           0         0             0                    0   \n",
       "1           0         0             0                    0   \n",
       "2           0         0             0                    0   \n",
       "3           0         0             0                    0   \n",
       "4           0         0             0                    0   \n",
       "\n",
       "   small_dents_in_nails  inflammatory_nails  blister  red_sore_around_nose  \\\n",
       "0                     0                   0        0                     0   \n",
       "1                     0                   0        0                     0   \n",
       "2                     0                   0        0                     0   \n",
       "3                     0                   0        0                     0   \n",
       "4                     0                   0        0                     0   \n",
       "\n",
       "   yellow_crust_ooze         prognosis  \n",
       "0                  0  Fungal infection  \n",
       "1                  0  Fungal infection  \n",
       "2                  0  Fungal infection  \n",
       "3                  0  Fungal infection  \n",
       "4                  0  Fungal infection  \n",
       "\n",
       "[5 rows x 133 columns]"
      ]
     },
     "execution_count": 5,
     "metadata": {},
     "output_type": "execute_result"
    }
   ],
   "source": [
    "# view data\n",
    "disease.head(5)"
   ]
  },
  {
   "cell_type": "code",
   "execution_count": 6,
   "metadata": {
    "colab": {
     "base_uri": "https://localhost:8080/"
    },
    "executionInfo": {
     "elapsed": 575,
     "status": "ok",
     "timestamp": 1661324663982,
     "user": {
      "displayName": "YBI Foundation",
      "userId": "14999490793651581791"
     },
     "user_tz": -330
    },
    "id": "CEQ00aPdvwT4",
    "outputId": "d80220b2-9e26-49c0-e218-3f93306f4fa0"
   },
   "outputs": [
    {
     "name": "stdout",
     "output_type": "stream",
     "text": [
      "<class 'pandas.core.frame.DataFrame'>\n",
      "RangeIndex: 4920 entries, 0 to 4919\n",
      "Columns: 133 entries, itching to prognosis\n",
      "dtypes: int64(132), object(1)\n",
      "memory usage: 5.0+ MB\n"
     ]
    }
   ],
   "source": [
    "# info of data\n",
    "disease.info()"
   ]
  },
  {
   "cell_type": "code",
   "execution_count": 7,
   "metadata": {
    "colab": {
     "base_uri": "https://localhost:8080/",
     "height": 394
    },
    "executionInfo": {
     "elapsed": 475,
     "status": "ok",
     "timestamp": 1661324401904,
     "user": {
      "displayName": "YBI Foundation",
      "userId": "14999490793651581791"
     },
     "user_tz": -330
    },
    "id": "dwf657_Rv1T2",
    "outputId": "004d5ae1-fe08-41fa-e729-a147e56b2f0a"
   },
   "outputs": [
    {
     "data": {
      "text/html": [
       "<div>\n",
       "<style scoped>\n",
       "    .dataframe tbody tr th:only-of-type {\n",
       "        vertical-align: middle;\n",
       "    }\n",
       "\n",
       "    .dataframe tbody tr th {\n",
       "        vertical-align: top;\n",
       "    }\n",
       "\n",
       "    .dataframe thead th {\n",
       "        text-align: right;\n",
       "    }\n",
       "</style>\n",
       "<table border=\"1\" class=\"dataframe\">\n",
       "  <thead>\n",
       "    <tr style=\"text-align: right;\">\n",
       "      <th></th>\n",
       "      <th>itching</th>\n",
       "      <th>skin_rash</th>\n",
       "      <th>nodal_skin_eruptions</th>\n",
       "      <th>continuous_sneezing</th>\n",
       "      <th>shivering</th>\n",
       "      <th>chills</th>\n",
       "      <th>joint_pain</th>\n",
       "      <th>stomach_pain</th>\n",
       "      <th>acidity</th>\n",
       "      <th>ulcers_on_tongue</th>\n",
       "      <th>...</th>\n",
       "      <th>pus_filled_pimples</th>\n",
       "      <th>blackheads</th>\n",
       "      <th>scurring</th>\n",
       "      <th>skin_peeling</th>\n",
       "      <th>silver_like_dusting</th>\n",
       "      <th>small_dents_in_nails</th>\n",
       "      <th>inflammatory_nails</th>\n",
       "      <th>blister</th>\n",
       "      <th>red_sore_around_nose</th>\n",
       "      <th>yellow_crust_ooze</th>\n",
       "    </tr>\n",
       "  </thead>\n",
       "  <tbody>\n",
       "    <tr>\n",
       "      <th>count</th>\n",
       "      <td>4920.000000</td>\n",
       "      <td>4920.000000</td>\n",
       "      <td>4920.000000</td>\n",
       "      <td>4920.000000</td>\n",
       "      <td>4920.000000</td>\n",
       "      <td>4920.000000</td>\n",
       "      <td>4920.000000</td>\n",
       "      <td>4920.000000</td>\n",
       "      <td>4920.000000</td>\n",
       "      <td>4920.000000</td>\n",
       "      <td>...</td>\n",
       "      <td>4920.000000</td>\n",
       "      <td>4920.000000</td>\n",
       "      <td>4920.000000</td>\n",
       "      <td>4920.000000</td>\n",
       "      <td>4920.000000</td>\n",
       "      <td>4920.000000</td>\n",
       "      <td>4920.000000</td>\n",
       "      <td>4920.000000</td>\n",
       "      <td>4920.000000</td>\n",
       "      <td>4920.000000</td>\n",
       "    </tr>\n",
       "    <tr>\n",
       "      <th>mean</th>\n",
       "      <td>0.137805</td>\n",
       "      <td>0.159756</td>\n",
       "      <td>0.021951</td>\n",
       "      <td>0.045122</td>\n",
       "      <td>0.021951</td>\n",
       "      <td>0.162195</td>\n",
       "      <td>0.139024</td>\n",
       "      <td>0.045122</td>\n",
       "      <td>0.045122</td>\n",
       "      <td>0.021951</td>\n",
       "      <td>...</td>\n",
       "      <td>0.021951</td>\n",
       "      <td>0.021951</td>\n",
       "      <td>0.021951</td>\n",
       "      <td>0.023171</td>\n",
       "      <td>0.023171</td>\n",
       "      <td>0.023171</td>\n",
       "      <td>0.023171</td>\n",
       "      <td>0.023171</td>\n",
       "      <td>0.023171</td>\n",
       "      <td>0.023171</td>\n",
       "    </tr>\n",
       "    <tr>\n",
       "      <th>std</th>\n",
       "      <td>0.344730</td>\n",
       "      <td>0.366417</td>\n",
       "      <td>0.146539</td>\n",
       "      <td>0.207593</td>\n",
       "      <td>0.146539</td>\n",
       "      <td>0.368667</td>\n",
       "      <td>0.346007</td>\n",
       "      <td>0.207593</td>\n",
       "      <td>0.207593</td>\n",
       "      <td>0.146539</td>\n",
       "      <td>...</td>\n",
       "      <td>0.146539</td>\n",
       "      <td>0.146539</td>\n",
       "      <td>0.146539</td>\n",
       "      <td>0.150461</td>\n",
       "      <td>0.150461</td>\n",
       "      <td>0.150461</td>\n",
       "      <td>0.150461</td>\n",
       "      <td>0.150461</td>\n",
       "      <td>0.150461</td>\n",
       "      <td>0.150461</td>\n",
       "    </tr>\n",
       "    <tr>\n",
       "      <th>min</th>\n",
       "      <td>0.000000</td>\n",
       "      <td>0.000000</td>\n",
       "      <td>0.000000</td>\n",
       "      <td>0.000000</td>\n",
       "      <td>0.000000</td>\n",
       "      <td>0.000000</td>\n",
       "      <td>0.000000</td>\n",
       "      <td>0.000000</td>\n",
       "      <td>0.000000</td>\n",
       "      <td>0.000000</td>\n",
       "      <td>...</td>\n",
       "      <td>0.000000</td>\n",
       "      <td>0.000000</td>\n",
       "      <td>0.000000</td>\n",
       "      <td>0.000000</td>\n",
       "      <td>0.000000</td>\n",
       "      <td>0.000000</td>\n",
       "      <td>0.000000</td>\n",
       "      <td>0.000000</td>\n",
       "      <td>0.000000</td>\n",
       "      <td>0.000000</td>\n",
       "    </tr>\n",
       "    <tr>\n",
       "      <th>25%</th>\n",
       "      <td>0.000000</td>\n",
       "      <td>0.000000</td>\n",
       "      <td>0.000000</td>\n",
       "      <td>0.000000</td>\n",
       "      <td>0.000000</td>\n",
       "      <td>0.000000</td>\n",
       "      <td>0.000000</td>\n",
       "      <td>0.000000</td>\n",
       "      <td>0.000000</td>\n",
       "      <td>0.000000</td>\n",
       "      <td>...</td>\n",
       "      <td>0.000000</td>\n",
       "      <td>0.000000</td>\n",
       "      <td>0.000000</td>\n",
       "      <td>0.000000</td>\n",
       "      <td>0.000000</td>\n",
       "      <td>0.000000</td>\n",
       "      <td>0.000000</td>\n",
       "      <td>0.000000</td>\n",
       "      <td>0.000000</td>\n",
       "      <td>0.000000</td>\n",
       "    </tr>\n",
       "    <tr>\n",
       "      <th>50%</th>\n",
       "      <td>0.000000</td>\n",
       "      <td>0.000000</td>\n",
       "      <td>0.000000</td>\n",
       "      <td>0.000000</td>\n",
       "      <td>0.000000</td>\n",
       "      <td>0.000000</td>\n",
       "      <td>0.000000</td>\n",
       "      <td>0.000000</td>\n",
       "      <td>0.000000</td>\n",
       "      <td>0.000000</td>\n",
       "      <td>...</td>\n",
       "      <td>0.000000</td>\n",
       "      <td>0.000000</td>\n",
       "      <td>0.000000</td>\n",
       "      <td>0.000000</td>\n",
       "      <td>0.000000</td>\n",
       "      <td>0.000000</td>\n",
       "      <td>0.000000</td>\n",
       "      <td>0.000000</td>\n",
       "      <td>0.000000</td>\n",
       "      <td>0.000000</td>\n",
       "    </tr>\n",
       "    <tr>\n",
       "      <th>75%</th>\n",
       "      <td>0.000000</td>\n",
       "      <td>0.000000</td>\n",
       "      <td>0.000000</td>\n",
       "      <td>0.000000</td>\n",
       "      <td>0.000000</td>\n",
       "      <td>0.000000</td>\n",
       "      <td>0.000000</td>\n",
       "      <td>0.000000</td>\n",
       "      <td>0.000000</td>\n",
       "      <td>0.000000</td>\n",
       "      <td>...</td>\n",
       "      <td>0.000000</td>\n",
       "      <td>0.000000</td>\n",
       "      <td>0.000000</td>\n",
       "      <td>0.000000</td>\n",
       "      <td>0.000000</td>\n",
       "      <td>0.000000</td>\n",
       "      <td>0.000000</td>\n",
       "      <td>0.000000</td>\n",
       "      <td>0.000000</td>\n",
       "      <td>0.000000</td>\n",
       "    </tr>\n",
       "    <tr>\n",
       "      <th>max</th>\n",
       "      <td>1.000000</td>\n",
       "      <td>1.000000</td>\n",
       "      <td>1.000000</td>\n",
       "      <td>1.000000</td>\n",
       "      <td>1.000000</td>\n",
       "      <td>1.000000</td>\n",
       "      <td>1.000000</td>\n",
       "      <td>1.000000</td>\n",
       "      <td>1.000000</td>\n",
       "      <td>1.000000</td>\n",
       "      <td>...</td>\n",
       "      <td>1.000000</td>\n",
       "      <td>1.000000</td>\n",
       "      <td>1.000000</td>\n",
       "      <td>1.000000</td>\n",
       "      <td>1.000000</td>\n",
       "      <td>1.000000</td>\n",
       "      <td>1.000000</td>\n",
       "      <td>1.000000</td>\n",
       "      <td>1.000000</td>\n",
       "      <td>1.000000</td>\n",
       "    </tr>\n",
       "  </tbody>\n",
       "</table>\n",
       "<p>8 rows × 132 columns</p>\n",
       "</div>"
      ],
      "text/plain": [
       "           itching    skin_rash  nodal_skin_eruptions  continuous_sneezing  \\\n",
       "count  4920.000000  4920.000000           4920.000000          4920.000000   \n",
       "mean      0.137805     0.159756              0.021951             0.045122   \n",
       "std       0.344730     0.366417              0.146539             0.207593   \n",
       "min       0.000000     0.000000              0.000000             0.000000   \n",
       "25%       0.000000     0.000000              0.000000             0.000000   \n",
       "50%       0.000000     0.000000              0.000000             0.000000   \n",
       "75%       0.000000     0.000000              0.000000             0.000000   \n",
       "max       1.000000     1.000000              1.000000             1.000000   \n",
       "\n",
       "         shivering       chills   joint_pain  stomach_pain      acidity  \\\n",
       "count  4920.000000  4920.000000  4920.000000   4920.000000  4920.000000   \n",
       "mean      0.021951     0.162195     0.139024      0.045122     0.045122   \n",
       "std       0.146539     0.368667     0.346007      0.207593     0.207593   \n",
       "min       0.000000     0.000000     0.000000      0.000000     0.000000   \n",
       "25%       0.000000     0.000000     0.000000      0.000000     0.000000   \n",
       "50%       0.000000     0.000000     0.000000      0.000000     0.000000   \n",
       "75%       0.000000     0.000000     0.000000      0.000000     0.000000   \n",
       "max       1.000000     1.000000     1.000000      1.000000     1.000000   \n",
       "\n",
       "       ulcers_on_tongue  ...  pus_filled_pimples   blackheads     scurring  \\\n",
       "count       4920.000000  ...         4920.000000  4920.000000  4920.000000   \n",
       "mean           0.021951  ...            0.021951     0.021951     0.021951   \n",
       "std            0.146539  ...            0.146539     0.146539     0.146539   \n",
       "min            0.000000  ...            0.000000     0.000000     0.000000   \n",
       "25%            0.000000  ...            0.000000     0.000000     0.000000   \n",
       "50%            0.000000  ...            0.000000     0.000000     0.000000   \n",
       "75%            0.000000  ...            0.000000     0.000000     0.000000   \n",
       "max            1.000000  ...            1.000000     1.000000     1.000000   \n",
       "\n",
       "       skin_peeling  silver_like_dusting  small_dents_in_nails  \\\n",
       "count   4920.000000          4920.000000           4920.000000   \n",
       "mean       0.023171             0.023171              0.023171   \n",
       "std        0.150461             0.150461              0.150461   \n",
       "min        0.000000             0.000000              0.000000   \n",
       "25%        0.000000             0.000000              0.000000   \n",
       "50%        0.000000             0.000000              0.000000   \n",
       "75%        0.000000             0.000000              0.000000   \n",
       "max        1.000000             1.000000              1.000000   \n",
       "\n",
       "       inflammatory_nails      blister  red_sore_around_nose  \\\n",
       "count         4920.000000  4920.000000           4920.000000   \n",
       "mean             0.023171     0.023171              0.023171   \n",
       "std              0.150461     0.150461              0.150461   \n",
       "min              0.000000     0.000000              0.000000   \n",
       "25%              0.000000     0.000000              0.000000   \n",
       "50%              0.000000     0.000000              0.000000   \n",
       "75%              0.000000     0.000000              0.000000   \n",
       "max              1.000000     1.000000              1.000000   \n",
       "\n",
       "       yellow_crust_ooze  \n",
       "count        4920.000000  \n",
       "mean            0.023171  \n",
       "std             0.150461  \n",
       "min             0.000000  \n",
       "25%             0.000000  \n",
       "50%             0.000000  \n",
       "75%             0.000000  \n",
       "max             1.000000  \n",
       "\n",
       "[8 rows x 132 columns]"
      ]
     },
     "execution_count": 7,
     "metadata": {},
     "output_type": "execute_result"
    }
   ],
   "source": [
    "# summary statistics\n",
    "disease.describe()"
   ]
  },
  {
   "cell_type": "code",
   "execution_count": 8,
   "metadata": {
    "colab": {
     "base_uri": "https://localhost:8080/"
    },
    "executionInfo": {
     "elapsed": 402,
     "status": "ok",
     "timestamp": 1661324404923,
     "user": {
      "displayName": "YBI Foundation",
      "userId": "14999490793651581791"
     },
     "user_tz": -330
    },
    "id": "yvLoDmdcv5Qm",
    "outputId": "50abb344-05f4-4566-d6d0-8f6970fc7dbb"
   },
   "outputs": [
    {
     "data": {
      "text/plain": [
       "itching                 False\n",
       "skin_rash               False\n",
       "nodal_skin_eruptions    False\n",
       "continuous_sneezing     False\n",
       "shivering               False\n",
       "                        ...  \n",
       "inflammatory_nails      False\n",
       "blister                 False\n",
       "red_sore_around_nose    False\n",
       "yellow_crust_ooze       False\n",
       "prognosis               False\n",
       "Length: 133, dtype: bool"
      ]
     },
     "execution_count": 8,
     "metadata": {},
     "output_type": "execute_result"
    }
   ],
   "source": [
    "# check for missing value\n",
    "disease.isnull().any()"
   ]
  },
  {
   "cell_type": "code",
   "execution_count": 9,
   "metadata": {
    "colab": {
     "base_uri": "https://localhost:8080/"
    },
    "executionInfo": {
     "elapsed": 413,
     "status": "ok",
     "timestamp": 1661324409628,
     "user": {
      "displayName": "YBI Foundation",
      "userId": "14999490793651581791"
     },
     "user_tz": -330
    },
    "id": "0dNMNNIvwBtd",
    "outputId": "c38558a9-c4e9-4f59-d23d-26e6fcd05419"
   },
   "outputs": [
    {
     "data": {
      "text/plain": [
       "itching                  2\n",
       "skin_rash                2\n",
       "nodal_skin_eruptions     2\n",
       "continuous_sneezing      2\n",
       "shivering                2\n",
       "                        ..\n",
       "inflammatory_nails       2\n",
       "blister                  2\n",
       "red_sore_around_nose     2\n",
       "yellow_crust_ooze        2\n",
       "prognosis               41\n",
       "Length: 133, dtype: int64"
      ]
     },
     "execution_count": 9,
     "metadata": {},
     "output_type": "execute_result"
    }
   ],
   "source": [
    "# check for categories\n",
    "disease.nunique()"
   ]
  },
  {
   "cell_type": "code",
   "execution_count": 10,
   "metadata": {
    "colab": {
     "base_uri": "https://localhost:8080/",
     "height": 488
    },
    "executionInfo": {
     "elapsed": 526,
     "status": "ok",
     "timestamp": 1661324688145,
     "user": {
      "displayName": "YBI Foundation",
      "userId": "14999490793651581791"
     },
     "user_tz": -330
    },
    "id": "nF78p-E0CLKY",
    "outputId": "580fc825-bbd0-43e9-ae1a-753c93d1eb39"
   },
   "outputs": [
    {
     "data": {
      "text/html": [
       "<div>\n",
       "<style scoped>\n",
       "    .dataframe tbody tr th:only-of-type {\n",
       "        vertical-align: middle;\n",
       "    }\n",
       "\n",
       "    .dataframe tbody tr th {\n",
       "        vertical-align: top;\n",
       "    }\n",
       "\n",
       "    .dataframe thead th {\n",
       "        text-align: right;\n",
       "    }\n",
       "</style>\n",
       "<table border=\"1\" class=\"dataframe\">\n",
       "  <thead>\n",
       "    <tr style=\"text-align: right;\">\n",
       "      <th></th>\n",
       "      <th>itching</th>\n",
       "      <th>skin_rash</th>\n",
       "      <th>nodal_skin_eruptions</th>\n",
       "      <th>continuous_sneezing</th>\n",
       "      <th>shivering</th>\n",
       "      <th>chills</th>\n",
       "      <th>joint_pain</th>\n",
       "      <th>stomach_pain</th>\n",
       "      <th>acidity</th>\n",
       "      <th>ulcers_on_tongue</th>\n",
       "      <th>...</th>\n",
       "      <th>pus_filled_pimples</th>\n",
       "      <th>blackheads</th>\n",
       "      <th>scurring</th>\n",
       "      <th>skin_peeling</th>\n",
       "      <th>silver_like_dusting</th>\n",
       "      <th>small_dents_in_nails</th>\n",
       "      <th>inflammatory_nails</th>\n",
       "      <th>blister</th>\n",
       "      <th>red_sore_around_nose</th>\n",
       "      <th>yellow_crust_ooze</th>\n",
       "    </tr>\n",
       "  </thead>\n",
       "  <tbody>\n",
       "    <tr>\n",
       "      <th>itching</th>\n",
       "      <td>1.000000</td>\n",
       "      <td>0.318158</td>\n",
       "      <td>0.326439</td>\n",
       "      <td>-0.086906</td>\n",
       "      <td>-0.059893</td>\n",
       "      <td>-0.175905</td>\n",
       "      <td>-0.160650</td>\n",
       "      <td>0.202850</td>\n",
       "      <td>-0.086906</td>\n",
       "      <td>-0.059893</td>\n",
       "      <td>...</td>\n",
       "      <td>-0.059893</td>\n",
       "      <td>-0.059893</td>\n",
       "      <td>-0.059893</td>\n",
       "      <td>-0.061573</td>\n",
       "      <td>-0.061573</td>\n",
       "      <td>-0.061573</td>\n",
       "      <td>-0.061573</td>\n",
       "      <td>-0.061573</td>\n",
       "      <td>-0.061573</td>\n",
       "      <td>-0.061573</td>\n",
       "    </tr>\n",
       "    <tr>\n",
       "      <th>skin_rash</th>\n",
       "      <td>0.318158</td>\n",
       "      <td>1.000000</td>\n",
       "      <td>0.298143</td>\n",
       "      <td>-0.094786</td>\n",
       "      <td>-0.065324</td>\n",
       "      <td>-0.029324</td>\n",
       "      <td>0.171134</td>\n",
       "      <td>0.161784</td>\n",
       "      <td>-0.094786</td>\n",
       "      <td>-0.065324</td>\n",
       "      <td>...</td>\n",
       "      <td>0.320859</td>\n",
       "      <td>0.320859</td>\n",
       "      <td>0.320859</td>\n",
       "      <td>0.331087</td>\n",
       "      <td>0.331087</td>\n",
       "      <td>0.331087</td>\n",
       "      <td>0.331087</td>\n",
       "      <td>0.331087</td>\n",
       "      <td>0.331087</td>\n",
       "      <td>0.331087</td>\n",
       "    </tr>\n",
       "    <tr>\n",
       "      <th>nodal_skin_eruptions</th>\n",
       "      <td>0.326439</td>\n",
       "      <td>0.298143</td>\n",
       "      <td>1.000000</td>\n",
       "      <td>-0.032566</td>\n",
       "      <td>-0.022444</td>\n",
       "      <td>-0.065917</td>\n",
       "      <td>-0.060200</td>\n",
       "      <td>-0.032566</td>\n",
       "      <td>-0.032566</td>\n",
       "      <td>-0.022444</td>\n",
       "      <td>...</td>\n",
       "      <td>-0.022444</td>\n",
       "      <td>-0.022444</td>\n",
       "      <td>-0.022444</td>\n",
       "      <td>-0.023073</td>\n",
       "      <td>-0.023073</td>\n",
       "      <td>-0.023073</td>\n",
       "      <td>-0.023073</td>\n",
       "      <td>-0.023073</td>\n",
       "      <td>-0.023073</td>\n",
       "      <td>-0.023073</td>\n",
       "    </tr>\n",
       "    <tr>\n",
       "      <th>continuous_sneezing</th>\n",
       "      <td>-0.086906</td>\n",
       "      <td>-0.094786</td>\n",
       "      <td>-0.032566</td>\n",
       "      <td>1.000000</td>\n",
       "      <td>0.608981</td>\n",
       "      <td>0.446238</td>\n",
       "      <td>-0.087351</td>\n",
       "      <td>-0.047254</td>\n",
       "      <td>-0.047254</td>\n",
       "      <td>-0.032566</td>\n",
       "      <td>...</td>\n",
       "      <td>-0.032566</td>\n",
       "      <td>-0.032566</td>\n",
       "      <td>-0.032566</td>\n",
       "      <td>-0.033480</td>\n",
       "      <td>-0.033480</td>\n",
       "      <td>-0.033480</td>\n",
       "      <td>-0.033480</td>\n",
       "      <td>-0.033480</td>\n",
       "      <td>-0.033480</td>\n",
       "      <td>-0.033480</td>\n",
       "    </tr>\n",
       "    <tr>\n",
       "      <th>shivering</th>\n",
       "      <td>-0.059893</td>\n",
       "      <td>-0.065324</td>\n",
       "      <td>-0.022444</td>\n",
       "      <td>0.608981</td>\n",
       "      <td>1.000000</td>\n",
       "      <td>0.295332</td>\n",
       "      <td>-0.060200</td>\n",
       "      <td>-0.032566</td>\n",
       "      <td>-0.032566</td>\n",
       "      <td>-0.022444</td>\n",
       "      <td>...</td>\n",
       "      <td>-0.022444</td>\n",
       "      <td>-0.022444</td>\n",
       "      <td>-0.022444</td>\n",
       "      <td>-0.023073</td>\n",
       "      <td>-0.023073</td>\n",
       "      <td>-0.023073</td>\n",
       "      <td>-0.023073</td>\n",
       "      <td>-0.023073</td>\n",
       "      <td>-0.023073</td>\n",
       "      <td>-0.023073</td>\n",
       "    </tr>\n",
       "    <tr>\n",
       "      <th>...</th>\n",
       "      <td>...</td>\n",
       "      <td>...</td>\n",
       "      <td>...</td>\n",
       "      <td>...</td>\n",
       "      <td>...</td>\n",
       "      <td>...</td>\n",
       "      <td>...</td>\n",
       "      <td>...</td>\n",
       "      <td>...</td>\n",
       "      <td>...</td>\n",
       "      <td>...</td>\n",
       "      <td>...</td>\n",
       "      <td>...</td>\n",
       "      <td>...</td>\n",
       "      <td>...</td>\n",
       "      <td>...</td>\n",
       "      <td>...</td>\n",
       "      <td>...</td>\n",
       "      <td>...</td>\n",
       "      <td>...</td>\n",
       "      <td>...</td>\n",
       "    </tr>\n",
       "    <tr>\n",
       "      <th>small_dents_in_nails</th>\n",
       "      <td>-0.061573</td>\n",
       "      <td>0.331087</td>\n",
       "      <td>-0.023073</td>\n",
       "      <td>-0.033480</td>\n",
       "      <td>-0.023073</td>\n",
       "      <td>-0.067765</td>\n",
       "      <td>0.359845</td>\n",
       "      <td>-0.033480</td>\n",
       "      <td>-0.033480</td>\n",
       "      <td>-0.023073</td>\n",
       "      <td>...</td>\n",
       "      <td>-0.023073</td>\n",
       "      <td>-0.023073</td>\n",
       "      <td>-0.023073</td>\n",
       "      <td>0.946120</td>\n",
       "      <td>0.946120</td>\n",
       "      <td>1.000000</td>\n",
       "      <td>0.946120</td>\n",
       "      <td>-0.023720</td>\n",
       "      <td>-0.023720</td>\n",
       "      <td>-0.023720</td>\n",
       "    </tr>\n",
       "    <tr>\n",
       "      <th>inflammatory_nails</th>\n",
       "      <td>-0.061573</td>\n",
       "      <td>0.331087</td>\n",
       "      <td>-0.023073</td>\n",
       "      <td>-0.033480</td>\n",
       "      <td>-0.023073</td>\n",
       "      <td>-0.067765</td>\n",
       "      <td>0.359845</td>\n",
       "      <td>-0.033480</td>\n",
       "      <td>-0.033480</td>\n",
       "      <td>-0.023073</td>\n",
       "      <td>...</td>\n",
       "      <td>-0.023073</td>\n",
       "      <td>-0.023073</td>\n",
       "      <td>-0.023073</td>\n",
       "      <td>0.946120</td>\n",
       "      <td>0.946120</td>\n",
       "      <td>0.946120</td>\n",
       "      <td>1.000000</td>\n",
       "      <td>-0.023720</td>\n",
       "      <td>-0.023720</td>\n",
       "      <td>-0.023720</td>\n",
       "    </tr>\n",
       "    <tr>\n",
       "      <th>blister</th>\n",
       "      <td>-0.061573</td>\n",
       "      <td>0.331087</td>\n",
       "      <td>-0.023073</td>\n",
       "      <td>-0.033480</td>\n",
       "      <td>-0.023073</td>\n",
       "      <td>-0.067765</td>\n",
       "      <td>-0.061889</td>\n",
       "      <td>-0.033480</td>\n",
       "      <td>-0.033480</td>\n",
       "      <td>-0.023073</td>\n",
       "      <td>...</td>\n",
       "      <td>-0.023073</td>\n",
       "      <td>-0.023073</td>\n",
       "      <td>-0.023073</td>\n",
       "      <td>-0.023720</td>\n",
       "      <td>-0.023720</td>\n",
       "      <td>-0.023720</td>\n",
       "      <td>-0.023720</td>\n",
       "      <td>1.000000</td>\n",
       "      <td>0.946120</td>\n",
       "      <td>0.946120</td>\n",
       "    </tr>\n",
       "    <tr>\n",
       "      <th>red_sore_around_nose</th>\n",
       "      <td>-0.061573</td>\n",
       "      <td>0.331087</td>\n",
       "      <td>-0.023073</td>\n",
       "      <td>-0.033480</td>\n",
       "      <td>-0.023073</td>\n",
       "      <td>-0.067765</td>\n",
       "      <td>-0.061889</td>\n",
       "      <td>-0.033480</td>\n",
       "      <td>-0.033480</td>\n",
       "      <td>-0.023073</td>\n",
       "      <td>...</td>\n",
       "      <td>-0.023073</td>\n",
       "      <td>-0.023073</td>\n",
       "      <td>-0.023073</td>\n",
       "      <td>-0.023720</td>\n",
       "      <td>-0.023720</td>\n",
       "      <td>-0.023720</td>\n",
       "      <td>-0.023720</td>\n",
       "      <td>0.946120</td>\n",
       "      <td>1.000000</td>\n",
       "      <td>0.946120</td>\n",
       "    </tr>\n",
       "    <tr>\n",
       "      <th>yellow_crust_ooze</th>\n",
       "      <td>-0.061573</td>\n",
       "      <td>0.331087</td>\n",
       "      <td>-0.023073</td>\n",
       "      <td>-0.033480</td>\n",
       "      <td>-0.023073</td>\n",
       "      <td>-0.067765</td>\n",
       "      <td>-0.061889</td>\n",
       "      <td>-0.033480</td>\n",
       "      <td>-0.033480</td>\n",
       "      <td>-0.023073</td>\n",
       "      <td>...</td>\n",
       "      <td>-0.023073</td>\n",
       "      <td>-0.023073</td>\n",
       "      <td>-0.023073</td>\n",
       "      <td>-0.023720</td>\n",
       "      <td>-0.023720</td>\n",
       "      <td>-0.023720</td>\n",
       "      <td>-0.023720</td>\n",
       "      <td>0.946120</td>\n",
       "      <td>0.946120</td>\n",
       "      <td>1.000000</td>\n",
       "    </tr>\n",
       "  </tbody>\n",
       "</table>\n",
       "<p>132 rows × 132 columns</p>\n",
       "</div>"
      ],
      "text/plain": [
       "                       itching  skin_rash  nodal_skin_eruptions  \\\n",
       "itching               1.000000   0.318158              0.326439   \n",
       "skin_rash             0.318158   1.000000              0.298143   \n",
       "nodal_skin_eruptions  0.326439   0.298143              1.000000   \n",
       "continuous_sneezing  -0.086906  -0.094786             -0.032566   \n",
       "shivering            -0.059893  -0.065324             -0.022444   \n",
       "...                        ...        ...                   ...   \n",
       "small_dents_in_nails -0.061573   0.331087             -0.023073   \n",
       "inflammatory_nails   -0.061573   0.331087             -0.023073   \n",
       "blister              -0.061573   0.331087             -0.023073   \n",
       "red_sore_around_nose -0.061573   0.331087             -0.023073   \n",
       "yellow_crust_ooze    -0.061573   0.331087             -0.023073   \n",
       "\n",
       "                      continuous_sneezing  shivering    chills  joint_pain  \\\n",
       "itching                         -0.086906  -0.059893 -0.175905   -0.160650   \n",
       "skin_rash                       -0.094786  -0.065324 -0.029324    0.171134   \n",
       "nodal_skin_eruptions            -0.032566  -0.022444 -0.065917   -0.060200   \n",
       "continuous_sneezing              1.000000   0.608981  0.446238   -0.087351   \n",
       "shivering                        0.608981   1.000000  0.295332   -0.060200   \n",
       "...                                   ...        ...       ...         ...   \n",
       "small_dents_in_nails            -0.033480  -0.023073 -0.067765    0.359845   \n",
       "inflammatory_nails              -0.033480  -0.023073 -0.067765    0.359845   \n",
       "blister                         -0.033480  -0.023073 -0.067765   -0.061889   \n",
       "red_sore_around_nose            -0.033480  -0.023073 -0.067765   -0.061889   \n",
       "yellow_crust_ooze               -0.033480  -0.023073 -0.067765   -0.061889   \n",
       "\n",
       "                      stomach_pain   acidity  ulcers_on_tongue  ...  \\\n",
       "itching                   0.202850 -0.086906         -0.059893  ...   \n",
       "skin_rash                 0.161784 -0.094786         -0.065324  ...   \n",
       "nodal_skin_eruptions     -0.032566 -0.032566         -0.022444  ...   \n",
       "continuous_sneezing      -0.047254 -0.047254         -0.032566  ...   \n",
       "shivering                -0.032566 -0.032566         -0.022444  ...   \n",
       "...                            ...       ...               ...  ...   \n",
       "small_dents_in_nails     -0.033480 -0.033480         -0.023073  ...   \n",
       "inflammatory_nails       -0.033480 -0.033480         -0.023073  ...   \n",
       "blister                  -0.033480 -0.033480         -0.023073  ...   \n",
       "red_sore_around_nose     -0.033480 -0.033480         -0.023073  ...   \n",
       "yellow_crust_ooze        -0.033480 -0.033480         -0.023073  ...   \n",
       "\n",
       "                      pus_filled_pimples  blackheads  scurring  skin_peeling  \\\n",
       "itching                        -0.059893   -0.059893 -0.059893     -0.061573   \n",
       "skin_rash                       0.320859    0.320859  0.320859      0.331087   \n",
       "nodal_skin_eruptions           -0.022444   -0.022444 -0.022444     -0.023073   \n",
       "continuous_sneezing            -0.032566   -0.032566 -0.032566     -0.033480   \n",
       "shivering                      -0.022444   -0.022444 -0.022444     -0.023073   \n",
       "...                                  ...         ...       ...           ...   \n",
       "small_dents_in_nails           -0.023073   -0.023073 -0.023073      0.946120   \n",
       "inflammatory_nails             -0.023073   -0.023073 -0.023073      0.946120   \n",
       "blister                        -0.023073   -0.023073 -0.023073     -0.023720   \n",
       "red_sore_around_nose           -0.023073   -0.023073 -0.023073     -0.023720   \n",
       "yellow_crust_ooze              -0.023073   -0.023073 -0.023073     -0.023720   \n",
       "\n",
       "                      silver_like_dusting  small_dents_in_nails  \\\n",
       "itching                         -0.061573             -0.061573   \n",
       "skin_rash                        0.331087              0.331087   \n",
       "nodal_skin_eruptions            -0.023073             -0.023073   \n",
       "continuous_sneezing             -0.033480             -0.033480   \n",
       "shivering                       -0.023073             -0.023073   \n",
       "...                                   ...                   ...   \n",
       "small_dents_in_nails             0.946120              1.000000   \n",
       "inflammatory_nails               0.946120              0.946120   \n",
       "blister                         -0.023720             -0.023720   \n",
       "red_sore_around_nose            -0.023720             -0.023720   \n",
       "yellow_crust_ooze               -0.023720             -0.023720   \n",
       "\n",
       "                      inflammatory_nails   blister  red_sore_around_nose  \\\n",
       "itching                        -0.061573 -0.061573             -0.061573   \n",
       "skin_rash                       0.331087  0.331087              0.331087   \n",
       "nodal_skin_eruptions           -0.023073 -0.023073             -0.023073   \n",
       "continuous_sneezing            -0.033480 -0.033480             -0.033480   \n",
       "shivering                      -0.023073 -0.023073             -0.023073   \n",
       "...                                  ...       ...                   ...   \n",
       "small_dents_in_nails            0.946120 -0.023720             -0.023720   \n",
       "inflammatory_nails              1.000000 -0.023720             -0.023720   \n",
       "blister                        -0.023720  1.000000              0.946120   \n",
       "red_sore_around_nose           -0.023720  0.946120              1.000000   \n",
       "yellow_crust_ooze              -0.023720  0.946120              0.946120   \n",
       "\n",
       "                      yellow_crust_ooze  \n",
       "itching                       -0.061573  \n",
       "skin_rash                      0.331087  \n",
       "nodal_skin_eruptions          -0.023073  \n",
       "continuous_sneezing           -0.033480  \n",
       "shivering                     -0.023073  \n",
       "...                                 ...  \n",
       "small_dents_in_nails          -0.023720  \n",
       "inflammatory_nails            -0.023720  \n",
       "blister                        0.946120  \n",
       "red_sore_around_nose           0.946120  \n",
       "yellow_crust_ooze              1.000000  \n",
       "\n",
       "[132 rows x 132 columns]"
      ]
     },
     "execution_count": 10,
     "metadata": {},
     "output_type": "execute_result"
    }
   ],
   "source": [
    "# correlation\n",
    "disease.corr()"
   ]
  },
  {
   "cell_type": "code",
   "execution_count": 11,
   "metadata": {
    "id": "YVH5G64MyPWu"
   },
   "outputs": [],
   "source": [
    "# visualize pairplot\n",
    "import seaborn\n",
    "import matplotlib.pyplot as plt"
   ]
  },
  {
   "cell_type": "code",
   "execution_count": 12,
   "metadata": {
    "colab": {
     "base_uri": "https://localhost:8080/"
    },
    "executionInfo": {
     "elapsed": 443,
     "status": "ok",
     "timestamp": 1661324704265,
     "user": {
      "displayName": "YBI Foundation",
      "userId": "14999490793651581791"
     },
     "user_tz": -330
    },
    "id": "ymxMIpJtzyYK",
    "outputId": "6eb3c25d-2a5e-473d-a21d-9ab696b8e3d1"
   },
   "outputs": [
    {
     "data": {
      "text/plain": [
       "Index(['itching', 'skin_rash', 'nodal_skin_eruptions', 'continuous_sneezing',\n",
       "       'shivering', 'chills', 'joint_pain', 'stomach_pain', 'acidity',\n",
       "       'ulcers_on_tongue',\n",
       "       ...\n",
       "       'blackheads', 'scurring', 'skin_peeling', 'silver_like_dusting',\n",
       "       'small_dents_in_nails', 'inflammatory_nails', 'blister',\n",
       "       'red_sore_around_nose', 'yellow_crust_ooze', 'prognosis'],\n",
       "      dtype='object', length=133)"
      ]
     },
     "execution_count": 12,
     "metadata": {},
     "output_type": "execute_result"
    }
   ],
   "source": [
    "# column names\n",
    "disease.columns"
   ]
  },
  {
   "cell_type": "code",
   "execution_count": 13,
   "metadata": {
    "id": "kDznvpMcz3Xj"
   },
   "outputs": [],
   "source": [
    "# define y\n",
    "y=disease['prognosis']"
   ]
  },
  {
   "cell_type": "code",
   "execution_count": 14,
   "metadata": {
    "id": "VYOT05Uzz63S"
   },
   "outputs": [],
   "source": [
    "# define X\n",
    "X=disease.drop(['prognosis'],axis=1)"
   ]
  },
  {
   "cell_type": "code",
   "execution_count": 15,
   "metadata": {
    "id": "BMu-d3slzX7j"
   },
   "outputs": [],
   "source": [
    "# split data\n",
    "from sklearn.model_selection import train_test_split\n",
    "X_train, X_test, y_train, y_test = train_test_split(X,y, train_size=0.7, random_state=2529)"
   ]
  },
  {
   "cell_type": "code",
   "execution_count": 16,
   "metadata": {
    "colab": {
     "base_uri": "https://localhost:8080/"
    },
    "executionInfo": {
     "elapsed": 426,
     "status": "ok",
     "timestamp": 1661324771894,
     "user": {
      "displayName": "YBI Foundation",
      "userId": "14999490793651581791"
     },
     "user_tz": -330
    },
    "id": "6TYpjNnAzgHV",
    "outputId": "c93f8148-8355-4f5b-ba21-3b822c30dec6"
   },
   "outputs": [
    {
     "data": {
      "text/plain": [
       "((3444, 132), (1476, 132), (3444,), (1476,))"
      ]
     },
     "execution_count": 16,
     "metadata": {},
     "output_type": "execute_result"
    }
   ],
   "source": [
    "# verify shape\n",
    "X_train.shape, X_test.shape, y_train.shape, y_test.shape"
   ]
  },
  {
   "cell_type": "code",
   "execution_count": 19,
   "metadata": {
    "id": "JsLlB3pi0Frp"
   },
   "outputs": [],
   "source": [
    "# select model\n",
    "from sklearn.ensemble import RandomForestClassifier\n",
    "model = RandomForestClassifier(max_depth=2, random_state=0)"
   ]
  },
  {
   "cell_type": "code",
   "execution_count": 21,
   "metadata": {
    "colab": {
     "base_uri": "https://localhost:8080/"
    },
    "executionInfo": {
     "elapsed": 1172,
     "status": "ok",
     "timestamp": 1661324811812,
     "user": {
      "displayName": "YBI Foundation",
      "userId": "14999490793651581791"
     },
     "user_tz": -330
    },
    "id": "zNcMLK2N0S4N",
    "outputId": "42689df8-ca4f-4fc7-ce92-35a129c091a1"
   },
   "outputs": [
    {
     "data": {
      "text/plain": [
       "RandomForestClassifier(max_depth=2, random_state=0)"
      ]
     },
     "execution_count": 21,
     "metadata": {},
     "output_type": "execute_result"
    }
   ],
   "source": [
    "# train model\n",
    "model.fit(X_train,y_train)"
   ]
  },
  {
   "cell_type": "code",
   "execution_count": 22,
   "metadata": {
    "id": "Ucz0oHDj0X36"
   },
   "outputs": [],
   "source": [
    "# predict model\n",
    "y_pred=model.predict(X_test)"
   ]
  },
  {
   "cell_type": "code",
   "execution_count": 23,
   "metadata": {
    "id": "9ueK-hy00e3-"
   },
   "outputs": [
    {
     "data": {
      "text/plain": [
       "0.7784552845528455"
      ]
     },
     "execution_count": 23,
     "metadata": {},
     "output_type": "execute_result"
    }
   ],
   "source": [
    "# model evaluation\n",
    "model.score(X_test,y_test)"
   ]
  },
  {
   "cell_type": "code",
   "execution_count": 24,
   "metadata": {
    "colab": {
     "base_uri": "https://localhost:8080/"
    },
    "executionInfo": {
     "elapsed": 12,
     "status": "ok",
     "timestamp": 1661324816875,
     "user": {
      "displayName": "YBI Foundation",
      "userId": "14999490793651581791"
     },
     "user_tz": -330
    },
    "id": "JJV2eHf50o4W",
    "outputId": "8a3cb83f-683a-4be5-ca27-ae3467cc7057"
   },
   "outputs": [
    {
     "data": {
      "text/plain": [
       "0.7784552845528455"
      ]
     },
     "execution_count": 24,
     "metadata": {},
     "output_type": "execute_result"
    }
   ],
   "source": [
    "# model accuracy\n",
    "from sklearn.metrics import accuracy_score, confusion_matrix, classification_report\n",
    "accuracy_score(y_test,y_pred)"
   ]
  },
  {
   "cell_type": "code",
   "execution_count": 25,
   "metadata": {
    "colab": {
     "base_uri": "https://localhost:8080/"
    },
    "executionInfo": {
     "elapsed": 3,
     "status": "ok",
     "timestamp": 1661324818614,
     "user": {
      "displayName": "YBI Foundation",
      "userId": "14999490793651581791"
     },
     "user_tz": -330
    },
    "id": "h100Msuz00TT",
    "outputId": "26ab22d9-efef-4161-97ae-8fa447b2648d"
   },
   "outputs": [
    {
     "data": {
      "text/plain": [
       "array([[31,  0,  0, ...,  0,  0,  0],\n",
       "       [ 0, 32,  0, ...,  0,  0,  0],\n",
       "       [ 0,  0, 35, ...,  0,  0,  0],\n",
       "       ...,\n",
       "       [ 0,  0,  0, ..., 39,  0,  0],\n",
       "       [ 0,  0,  0, ...,  0, 35,  0],\n",
       "       [ 0,  0,  0, ...,  0,  0, 32]], dtype=int64)"
      ]
     },
     "execution_count": 25,
     "metadata": {},
     "output_type": "execute_result"
    }
   ],
   "source": [
    "# model confusion matrix\n",
    "confusion_matrix(y_test,y_pred)"
   ]
  },
  {
   "cell_type": "code",
   "execution_count": 26,
   "metadata": {
    "colab": {
     "base_uri": "https://localhost:8080/"
    },
    "executionInfo": {
     "elapsed": 638,
     "status": "ok",
     "timestamp": 1661324820827,
     "user": {
      "displayName": "YBI Foundation",
      "userId": "14999490793651581791"
     },
     "user_tz": -330
    },
    "id": "BINeM-mo1Arv",
    "outputId": "425f2f93-dd16-4fb4-c68c-e4372b6b2d64"
   },
   "outputs": [
    {
     "name": "stdout",
     "output_type": "stream",
     "text": [
      "                                         precision    recall  f1-score   support\n",
      "\n",
      "(vertigo) Paroymsal  Positional Vertigo       1.00      1.00      1.00        31\n",
      "                                   AIDS       1.00      0.86      0.93        37\n",
      "                                   Acne       1.00      1.00      1.00        35\n",
      "                    Alcoholic hepatitis       1.00      1.00      1.00        40\n",
      "                                Allergy       1.00      0.89      0.94        37\n",
      "                              Arthritis       1.00      0.91      0.95        46\n",
      "                       Bronchial Asthma       1.00      0.92      0.96        37\n",
      "                   Cervical spondylosis       0.49      1.00      0.66        31\n",
      "                            Chicken pox       1.00      1.00      1.00        29\n",
      "                    Chronic cholestasis       0.00      0.00      0.00        32\n",
      "                            Common Cold       1.00      1.00      1.00        39\n",
      "                                 Dengue       1.00      1.00      1.00        35\n",
      "                              Diabetes        1.00      1.00      1.00        35\n",
      "           Dimorphic hemmorhoids(piles)       1.00      1.00      1.00        34\n",
      "                          Drug Reaction       1.00      1.00      1.00        38\n",
      "                       Fungal infection       1.00      1.00      1.00        35\n",
      "                                   GERD       0.15      1.00      0.26        31\n",
      "                        Gastroenteritis       1.00      1.00      1.00        36\n",
      "                           Heart attack       0.00      0.00      0.00        41\n",
      "                            Hepatitis B       1.00      1.00      1.00        46\n",
      "                            Hepatitis C       0.31      1.00      0.47        32\n",
      "                            Hepatitis D       0.00      0.00      0.00        39\n",
      "                            Hepatitis E       1.00      1.00      1.00        29\n",
      "                          Hypertension        1.00      0.03      0.06        33\n",
      "                        Hyperthyroidism       1.00      1.00      1.00        36\n",
      "                           Hypoglycemia       1.00      1.00      1.00        33\n",
      "                         Hypothyroidism       1.00      1.00      1.00        30\n",
      "                               Impetigo       0.00      0.00      0.00        48\n",
      "                               Jaundice       0.00      0.00      0.00        36\n",
      "                                Malaria       0.00      0.00      0.00        41\n",
      "                               Migraine       1.00      1.00      1.00        38\n",
      "                        Osteoarthristis       0.95      1.00      0.97        38\n",
      "           Paralysis (brain hemorrhage)       0.00      0.00      0.00        42\n",
      "                    Peptic ulcer diseae       1.00      1.00      1.00        29\n",
      "                              Pneumonia       1.00      1.00      1.00        33\n",
      "                              Psoriasis       1.00      1.00      1.00        33\n",
      "                           Tuberculosis       1.00      1.00      1.00        42\n",
      "                                Typhoid       1.00      1.00      1.00        33\n",
      "                Urinary tract infection       1.00      1.00      1.00        39\n",
      "                         Varicose veins       1.00      1.00      1.00        35\n",
      "                            hepatitis A       0.44      1.00      0.61        32\n",
      "\n",
      "                               accuracy                           0.78      1476\n",
      "                              macro avg       0.76      0.80      0.75      1476\n",
      "                           weighted avg       0.75      0.78      0.74      1476\n",
      "\n"
     ]
    },
    {
     "name": "stderr",
     "output_type": "stream",
     "text": [
      "C:\\Users\\karthick-pt5869\\Anaconda3\\lib\\site-packages\\sklearn\\metrics\\_classification.py:1318: UndefinedMetricWarning: Precision and F-score are ill-defined and being set to 0.0 in labels with no predicted samples. Use `zero_division` parameter to control this behavior.\n",
      "  _warn_prf(average, modifier, msg_start, len(result))\n",
      "C:\\Users\\karthick-pt5869\\Anaconda3\\lib\\site-packages\\sklearn\\metrics\\_classification.py:1318: UndefinedMetricWarning: Precision and F-score are ill-defined and being set to 0.0 in labels with no predicted samples. Use `zero_division` parameter to control this behavior.\n",
      "  _warn_prf(average, modifier, msg_start, len(result))\n",
      "C:\\Users\\karthick-pt5869\\Anaconda3\\lib\\site-packages\\sklearn\\metrics\\_classification.py:1318: UndefinedMetricWarning: Precision and F-score are ill-defined and being set to 0.0 in labels with no predicted samples. Use `zero_division` parameter to control this behavior.\n",
      "  _warn_prf(average, modifier, msg_start, len(result))\n"
     ]
    }
   ],
   "source": [
    "# model classification report\n",
    "print(classification_report(y_test,y_pred))"
   ]
  },
  {
   "cell_type": "code",
   "execution_count": 27,
   "metadata": {
    "colab": {
     "base_uri": "https://localhost:8080/",
     "height": 191
    },
    "executionInfo": {
     "elapsed": 531,
     "status": "ok",
     "timestamp": 1661324829056,
     "user": {
      "displayName": "YBI Foundation",
      "userId": "14999490793651581791"
     },
     "user_tz": -330
    },
    "id": "_kC5WrRO1Gfj",
    "outputId": "62811be1-ba34-4534-c160-76bafea172a4"
   },
   "outputs": [],
   "source": [
    "# future prediction\n",
    "y_pred=model.predict(X_test)"
   ]
  },
  {
   "cell_type": "code",
   "execution_count": 28,
   "metadata": {
    "colab": {
     "base_uri": "https://localhost:8080/",
     "height": 174
    },
    "executionInfo": {
     "elapsed": 9,
     "status": "ok",
     "timestamp": 1661324830631,
     "user": {
      "displayName": "YBI Foundation",
      "userId": "14999490793651581791"
     },
     "user_tz": -330
    },
    "id": "CxLn9E-n1Zht",
    "outputId": "2395459a-2059-4fcc-f135-cd3b5e78604a"
   },
   "outputs": [],
   "source": [
    "# define X_new\n",
    "X_new=X[130:131]"
   ]
  },
  {
   "cell_type": "code",
   "execution_count": 29,
   "metadata": {
    "colab": {
     "base_uri": "https://localhost:8080/"
    },
    "executionInfo": {
     "elapsed": 3,
     "status": "ok",
     "timestamp": 1661324832470,
     "user": {
      "displayName": "YBI Foundation",
      "userId": "14999490793651581791"
     },
     "user_tz": -330
    },
    "id": "ph3XVzdw2MS2",
    "outputId": "51c39737-2955-40f7-cafe-8c02847ae03e"
   },
   "outputs": [
    {
     "data": {
      "text/plain": [
       "array(['GERD'], dtype=object)"
      ]
     },
     "execution_count": 29,
     "metadata": {},
     "output_type": "execute_result"
    }
   ],
   "source": [
    "# predict for X_new\n",
    "model.predict(X_new)"
   ]
  }
 ],
 "metadata": {
  "colab": {
   "authorship_tag": "ABX9TyMoqSOrDX8pNTN+fxxFUlx7",
   "collapsed_sections": [],
   "name": "Classification Model to Identify Multiple Disease Project.ipynb",
   "provenance": []
  },
  "kernelspec": {
   "display_name": "Python 3 (ipykernel)",
   "language": "python",
   "name": "python3"
  },
  "language_info": {
   "codemirror_mode": {
    "name": "ipython",
    "version": 3
   },
   "file_extension": ".py",
   "mimetype": "text/x-python",
   "name": "python",
   "nbconvert_exporter": "python",
   "pygments_lexer": "ipython3",
   "version": "3.9.12"
  }
 },
 "nbformat": 4,
 "nbformat_minor": 1
}
